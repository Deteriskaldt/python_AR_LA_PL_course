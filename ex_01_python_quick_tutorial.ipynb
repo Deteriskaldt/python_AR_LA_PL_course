{
 "cells": [
  {
   "cell_type": "code",
   "execution_count": 1,
   "id": "b878aa75",
   "metadata": {},
   "outputs": [
    {
     "name": "stdout",
     "output_type": "stream",
     "text": [
      "Hello python!\n"
     ]
    }
   ],
   "source": [
    "print('Hello python!')"
   ]
  },
  {
   "cell_type": "code",
   "execution_count": 3,
   "id": "21cc943f",
   "metadata": {},
   "outputs": [
    {
     "name": "stdout",
     "output_type": "stream",
     "text": [
      "Hello world!\n",
      "__________________________________________________\n",
      "python再见！\n",
      "goodbye python！\n"
     ]
    }
   ],
   "source": [
    "print(\"Hello world!\")\n",
    "print(\"_\"*50)\n",
    "print(\"python再见！\")\n",
    "print(\"goodbye python！\")"
   ]
  },
  {
   "cell_type": "code",
   "execution_count": 4,
   "id": "6a125219",
   "metadata": {},
   "outputs": [
    {
     "name": "stdout",
     "output_type": "stream",
     "text": [
      "加： 9\n",
      "减： 38\n",
      "乘： 32\n",
      "除： 2.0\n",
      "整除： 2\n",
      "余数： 2\n",
      "幂： 64\n"
     ]
    }
   ],
   "source": [
    "print(\"加：\",6+3)\n",
    "print(\"减：\",39-1)\n",
    "print(\"乘：\",8*4)\n",
    "print(\"除：\", 6/3)\n",
    "print(\"整除：\", 5//2)\n",
    "print(\"余数：\", 8%6)\n",
    "print(\"幂：\",4**3)"
   ]
  },
  {
   "cell_type": "code",
   "execution_count": 26,
   "id": "1a217635",
   "metadata": {},
   "outputs": [
    {
     "name": "stdout",
     "output_type": "stream",
     "text": [
      "monadic_equation= 30.0\n",
      "monadic_equation=30.000\n",
      "monadic_equation=30.000\n"
     ]
    }
   ],
   "source": [
    "x=7.0\n",
    "monadic_equation=4*x+2 #注意变量定义顺序\n",
    "print(\"monadic_equation=\",monadic_equation)\n",
    "print(\"monadic_equation=%.3f\"%monadic_equation) #%字符串格式化方法\n",
    "print(\"monadic_equation={:.3f}\".format(monadic_equation)) #format()字符串格式化方法\n"
   ]
  },
  {
   "cell_type": "code",
   "execution_count": 14,
   "id": "1715ad73",
   "metadata": {},
   "outputs": [
    {
     "name": "stdout",
     "output_type": "stream",
     "text": [
      "The longitude of the Xi'an coordinate is 108.94, and the latitude is 34.261013.\n"
     ]
    }
   ],
   "source": [
    "city_name=\"Xi'an\"\n",
    "coordinate_longitude=108.942292\n",
    "coordiante_latitude=34.261013\n",
    "print(\"The longitude of the Xi'an coordinate is {lon:.2f}, and the latitude is {lat}.\".format(lon=coordinate_longitude,lat=coordiante_latitude))"
   ]
  },
  {
   "cell_type": "code",
   "execution_count": 30,
   "id": "d1132645",
   "metadata": {},
   "outputs": [
    {
     "name": "stdout",
     "output_type": "stream",
     "text": [
      "func_2=1\n"
     ]
    }
   ],
   "source": [
    "x,y,b=1,2,3 #尝试，x,y,*z=0,1,2,3,4,5,6; x,y,*z=0,1; (x,y),(a,b)=(0,1),(2,3)\n",
    "func_2=4*x+3*y+b\n",
    "print(\"func_2={}\".format(x,y,b,func_2))"
   ]
  },
  {
   "cell_type": "code",
   "execution_count": 1,
   "id": "b1e75950",
   "metadata": {},
   "outputs": [
    {
     "name": "stdout",
     "output_type": "stream",
     "text": [
      "[5, 8, 11, 14, 17, 20, 23]\n",
      "The list length=7\n",
      "Maximum value=23\n",
      "Minimum value=5\n"
     ]
    }
   ],
   "source": [
    "lst_n=list(range(5,25,3)) #建立列表。range(start,stop,[,step])建立区间。\n",
    "print(lst_n)\n",
    "print(\"The list length={}\".format(len(lst_n)))\n",
    "print(\"Maximum value={}\".format(max(lst_n)))\n",
    "print(\"Minimum value={}\".format(min(lst_n)))"
   ]
  },
  {
   "cell_type": "code",
   "execution_count": 43,
   "id": "ef2bc472",
   "metadata": {},
   "outputs": [
    {
     "name": "stdout",
     "output_type": "stream",
     "text": [
      "['n', 'o', 'p', 'q', 'r', 's', 't', 'u', 'v', 'w']\n",
      "__________________________________________________\n",
      "[2:4]->['p', 'q']\n",
      "[-4:-1]->['t', 'u', 'v']\n",
      "[-5:]->['s', 't', 'u', 'v', 'w']\n",
      "[:5]->['n', 'o', 'p', 'q', 'r']\n",
      "[:]->['n', 'o', 'p', 'q', 'r', 's', 't', 'u', 'v', 'w']\n"
     ]
    }
   ],
   "source": [
    "lst_s=list(map(chr,range(110,120)))\n",
    "print(lst_s)\n",
    "print(\"_\"*50)\n",
    "print(\"[2:4]->{}\".format(lst_s[2:4]))\n",
    "print(\"[-4:-1]->{}\".format(lst_s[-4:-1]))\n",
    "print(\"[-5:]->{}\".format(lst_s[-5:]))\n",
    "print(\"[:5]->{}\".format(lst_s[:5]))\n",
    "print(\"[:]->{}\".format(lst_s[:]))"
   ]
  },
  {
   "cell_type": "code",
   "execution_count": 2,
   "id": "fa112d34",
   "metadata": {},
   "outputs": [
    {
     "name": "stdout",
     "output_type": "stream",
     "text": [
      "Help on class map in module builtins:\n",
      "\n",
      "class map(object)\n",
      " |  map(func, *iterables) --> map object\n",
      " |  \n",
      " |  Make an iterator that computes the function using arguments from\n",
      " |  each of the iterables.  Stops when the shortest iterable is exhausted.\n",
      " |  \n",
      " |  Methods defined here:\n",
      " |  \n",
      " |  __getattribute__(self, name, /)\n",
      " |      Return getattr(self, name).\n",
      " |  \n",
      " |  __iter__(self, /)\n",
      " |      Implement iter(self).\n",
      " |  \n",
      " |  __next__(self, /)\n",
      " |      Implement next(self).\n",
      " |  \n",
      " |  __reduce__(...)\n",
      " |      Return state information for pickling.\n",
      " |  \n",
      " |  ----------------------------------------------------------------------\n",
      " |  Static methods defined here:\n",
      " |  \n",
      " |  __new__(*args, **kwargs) from builtins.type\n",
      " |      Create and return a new object.  See help(type) for accurate signature.\n",
      "\n"
     ]
    }
   ],
   "source": [
    "help(map) #用help()方法查看说明"
   ]
  },
  {
   "cell_type": "code",
   "execution_count": 4,
   "id": "89016280",
   "metadata": {},
   "outputs": [
    {
     "name": "stdout",
     "output_type": "stream",
     "text": [
      "['n', 'o', 'p', 'q', 'r', 's', 't', 'u', 'v', 'w']\n",
      "__________________________________________________\n",
      "[0:20:2]->['n', 'p', 'r', 't', 'v']\n",
      "[::5]->['n', 's']\n",
      "[8:2:-2]->['v', 't', 'r']\n",
      "[18:3:-1]->['w', 'v', 'u', 't', 's', 'r']\n",
      "[6::-2]->['t', 'r', 'p', 'n']\n",
      "[:4:-2]->['w', 'u', 's']\n"
     ]
    }
   ],
   "source": [
    "lst_s=list(map(chr,range(110,120)))\n",
    "print(lst_s)\n",
    "print(\"_\"*50)\n",
    "print(\"[0:20:2]->{}\".format(lst_s[0:20:2]))\n",
    "print(\"[::5]->{}\".format(lst_s[::5]))\n",
    "print(\"[8:2:-2]->{}\".format(lst_s[8:2:-2]))\n",
    "print(\"[18:3:-1]->{}\".format(lst_s[18:3:-1]))\n",
    "print(\"[6::-2]->{}\".format(lst_s[6::-2]))\n",
    "print(\"[:4:-2]->{}\".format(lst_s[:4:-2]))"
   ]
  },
  {
   "cell_type": "code",
   "execution_count": 6,
   "id": "362b6bdf",
   "metadata": {},
   "outputs": [
    {
     "name": "stdout",
     "output_type": "stream",
     "text": [
      "['n', 'o', 'p', 'q', 'r', 80, 't', 'u', 'v', 'w']\n",
      "__________________________________________________\n",
      "lst_s[5]=99->['n', 'o', 'p', 'q', 'r', 80, 't', 'u', 'v', 'w']\n",
      "lst_s+[None]*7->['n', 'o', 'p', 'q', 'r', 80, 't', 'u', 'v', 'w', None, None, None, None, None, None, None]\n",
      "lst_none[13]=2021->['n', 'o', 'p', 'q', 'r', 80, 't', 'u', 'v', 'w', None, None, None, 2021, None, None, None]\n",
      "lst_none[-8:-4]=list(range(100,104,2))->['n', 'o', 'p', 'q', 'r', 80, 't', 'u', 'v', 100, 102, 2021, None, None, None]\n",
      "lst_none[1:1]=[0,0,0,12]->['n', 0, 0, 0, 12, 'o', 'p', 'q', 'r', 80, 't', 'u', 'v', 100, 102, 2021, None, None, None]\n",
      "del lst_none[-1:]->['n', 0, 0, 0, 12, 'o', 'p', 'q', 'r', 80, 't', 'u', 'v', 100, 102, 2021, None, None]\n"
     ]
    }
   ],
   "source": [
    "print(lst_s)\n",
    "print(\"_\"*50)\n",
    "lst_s[5]=80 #元素赋值\n",
    "print(\"lst_s[5]=99->{}\".format(lst_s))\n",
    "lst_none=lst_s+[None]*7\n",
    "print(\"lst_s+[None]*7->{}\".format(lst_none))\n",
    "lst_none[13]=2021\n",
    "print(\"lst_none[13]=2021->{}\".format(lst_none))\n",
    "lst_none[-8:-4]=list(range(100,104,2)) #分片赋值\n",
    "print(\"lst_none[-8:-4]=list(range(100,104,2))->{}\".format(lst_none))\n",
    "lst_none[1:1]=[0,0,0,12]\n",
    "print(\"lst_none[1:1]=[0,0,0,12]->{}\".format(lst_none))\n",
    "del lst_none[-1:] #删除元素\n",
    "print(\"del lst_none[-1:]->{}\".format(lst_none))"
   ]
  },
  {
   "cell_type": "code",
   "execution_count": 8,
   "id": "74eea0a9",
   "metadata": {},
   "outputs": [
    {
     "name": "stdout",
     "output_type": "stream",
     "text": [
      "['n', 'o', 'p', 'q', 'r']\n",
      "__________________________________________________\n",
      "lst_s_2.append(99)->['n', 'o', 'p', 'q', 'r', 99]\n",
      "lst_s_2.append(list(range(40,80,6)))->['n', 'o', 'p', 'q', 'r', 99, [40, 46, 52, 58, 64, 70, 76]]\n",
      "lst_s_2.extend(lst_spechars)->['n', 'o', 'p', 'q', 'r', 99, [40, 46, 52, 58, 64, 70, 76], '^', ')', '^']\n",
      "lst_s_2.count('^')=2\n",
      "lst_s_2.index('o')=1\n",
      "lst_s_2.insert(2,[1500,1600,1800])->['n', 'o', [1500, 1600, 1800], 'p', 'q', 'r', 99, [40, 46, 52, 58, 64, 70, 76], '^', ')', '^']\n",
      "lst_s_2.pop(7)_popup->[40, 46, 52, 58, 64, 70, 76]\n",
      "lst_s_2.pop(7)_retention->['n', 'o', [1500, 1600, 1800], 'p', 'q', 'r', 99, '^', ')', '^']\n",
      "lst_s_2.remove('^')_retention->['n', 'o', [1500, 1600, 1800], 'p', 'q', 'r', 99, ')', '^']\n",
      "list_n_2.sort()->[2, 3, 5, 6, 45, 90]\n"
     ]
    }
   ],
   "source": [
    "lst_s_2=list(map(chr,range(110,115)))\n",
    "print(lst_s_2)\n",
    "print(\"_\"*50)\n",
    "lst_s_2.append(99)\n",
    "print(\"lst_s_2.append(99)->{}\".format(lst_s_2))\n",
    "lst_s_2.append(list(range(40,80,6)))\n",
    "print(\"lst_s_2.append(list(range(40,80,6)))->{}\".format(lst_s_2))\n",
    "lst_spechars=['^',')','^']\n",
    "lst_s_2.extend(lst_spechars)\n",
    "print(\"lst_s_2.extend(lst_spechars)->{}\".format(lst_s_2))\n",
    "print(\"lst_s_2.count('^')={}\".format(lst_s_2.count('^')))\n",
    "print(\"lst_s_2.index('o')={}\".format(lst_s_2.index('o')))\n",
    "lst_s_2.insert(2,[1500,1600,1800])\n",
    "print(\"lst_s_2.insert(2,[1500,1600,1800])->{}\".format(lst_s_2))\n",
    "print(\"lst_s_2.pop(7)_popup->{}\".format(lst_s_2.pop(7)))\n",
    "print(\"lst_s_2.pop(7)_retention->{}\".format(lst_s_2))\n",
    "lst_s_2.remove('^')\n",
    "print(\"lst_s_2.remove('^')_retention->{}\".format(lst_s_2))\n",
    "list_n_2=[2,45,6,90,5,3]\n",
    "list_n_2.sort()\n",
    "print(\"list_n_2.sort()->{}\".format(list_n_2))"
   ]
  },
  {
   "cell_type": "code",
   "execution_count": 9,
   "id": "cc4e5cf9",
   "metadata": {},
   "outputs": [
    {
     "name": "stdout",
     "output_type": "stream",
     "text": [
      "tuple_1=6,8,9,->(6, 8, 9)\n",
      "6*(20*6,)->(120, 120, 120, 120, 120, 120)\n",
      "tuple((3,4,5))->(5, 8, 9)\n",
      "tuple([3,4,5])->(5, 8, 9)\n"
     ]
    }
   ],
   "source": [
    "tuple_1=6,8,9,\n",
    "print(\"tuple_1=6,8,9,->{}\".format(tuple_1))\n",
    "print(\"6*(20*6,)->{}\".format(6*(20*6,)))\n",
    "print(\"tuple((3,4,5))->{}\".format(tuple((5,8,9)))) #用()\n",
    "print(\"tuple([3,4,5])->{}\".format(tuple([5,8,9]))) #用[]"
   ]
  },
  {
   "cell_type": "code",
   "execution_count": 4,
   "id": "87cc76a6",
   "metadata": {},
   "outputs": [
    {
     "name": "stdout",
     "output_type": "stream",
     "text": [
      "items->[(0, [0, 1, 2, 3, 4, 5]), (1, [[194, 195, 160]]), (2, 'python')]\n",
      "dic=dict(items)->{0: [0, 1, 2, 3, 4, 5], 1: [[194, 195, 160]], 2: 'python'}\n",
      "dic[1]->[[194, 195, 160]]\n"
     ]
    }
   ],
   "source": [
    "import random\n",
    "items=[(0,[i for i in range(6)]),(1,[random.sample(list(range(150,200,1)),3)]),(2,'python')] #[i for i in range(5)] 为列表推导式 list comprehension/derivation\n",
    "print(\"items->{}\".format(items))\n",
    "dic=dict(items)\n",
    "print(\"dic=dict(items)->{}\".format(dic))\n",
    "print(\"dic[1]->{}\".format(dic[1]))\n"
   ]
  },
  {
   "cell_type": "code",
   "execution_count": 9,
   "id": "e22fb431",
   "metadata": {},
   "outputs": [
    {
     "name": "stdout",
     "output_type": "stream",
     "text": [
      "len(dic)->3\n",
      "dic[3]=(random.random(),random.uniform(200,300))->{0: [0, 1, 2, 3, 4, 5], 2: 'python', 3: (0.9373175224147213, 251.10718938516138)}\n",
      "del dic[1]->{0: [0, 1, 2, 3, 4, 5], 2: 'python', 3: (0.9373175224147213, 251.10718938516138)}\n",
      "3 in dic->True\n",
      "5 in dic->False\n",
      "dic.keys()->dict_keys([0, 2, 3])\n",
      "dic.values()->dict_values([[0, 1, 2, 3, 4, 5], 'python', (0.9373175224147213, 251.10718938516138)])\n",
      "dic.items()->dict_items([(0, [0, 1, 2, 3, 4, 5]), (2, 'python'), (3, (0.9373175224147213, 251.10718938516138))])\n",
      "__________________________________________________\n",
      "list(dic.keys())->[0, 2, 3]\n"
     ]
    }
   ],
   "source": [
    "dic[3]=(random.random(),random.uniform(200,300))\n",
    "print(\"len(dic)->{}\".format(len(dic)))\n",
    "print(\"dic[3]=(random.random(),random.uniform(200,300))->{}\".format(dic))\n",
    "print(\"del dic[1]->{}\".format(dic))\n",
    "print(\"3 in dic->{}\".format(3 in dic))\n",
    "print(\"5 in dic->{}\".format(5 in dic))\n",
    "print(\"dic.keys()->{}\".format(dic.keys())) \n",
    "print(\"dic.values()->{}\".format(dic.values()))\n",
    "print(\"dic.items()->{}\".format(dic.items()))\n",
    "print(\"_\"*50)\n",
    "print(\"list(dic.keys())->{}\".format(list(dic.keys())))"
   ]
  },
  {
   "cell_type": "code",
   "execution_count": 12,
   "id": "7ed7aa25",
   "metadata": {},
   "outputs": [
    {
     "name": "stdout",
     "output_type": "stream",
     "text": [
      "0 (0, [0, 1, 2, 3, 4, 5])\n",
      "1 (2, 'python')\n",
      "2 (3, (0.9373175224147213, 251.10718938516138))\n"
     ]
    }
   ],
   "source": [
    "for n,u in enumerate(dic.items()): #for循环\n",
    "    print(n,u)\n"
   ]
  },
  {
   "cell_type": "code",
   "execution_count": 25,
   "id": "278958c2",
   "metadata": {},
   "outputs": [
    {
     "name": "stdout",
     "output_type": "stream",
     "text": [
      "lst_A=[5, 9, 13, 17],lst_B=[100, 120, 140, 160, 180]\n",
      "dic_2={0: [5, 9, 13, 17], 1: [100, 120, 140, 160, 180]}\n",
      "__________________________________________________\n",
      "dic_assignment={0: [5, 9, 13, 17], 1: [100, 120, 140, 160, 180]}\n",
      "dic_2.clear()->{}\n",
      "dic_assignment={}\n",
      "dic_2[5]=list(range(2,9,1))->{5: [2, 3, 4, 5, 6, 7, 8]}\n",
      "dic_copy=dic_2.copy()->{5: [2, 3, 4, 5, 6, 7, 8]}\n",
      "dic_2[8]=[4,7]->{5: [2, 3, 4, 5, 6, 7, 8], 8: [4, 7]}\n",
      "dic_copy={5: [2, 3, 4, 5, 6, 7, 8]}\n",
      "dic_copy[5].remove(5)->{5: [2, 3, 4, 6, 7, 8]}\n",
      "dic_copy.setdefault(6,[88,97])->{5: [2, 3, 4, 6, 7, 8], 6: [88, 97]}\n",
      "dic_2.pop(5)->{8: [4, 7]}\n",
      "dic_update={8: [5, 7, 8, 6, 2], 9: [1, 2, 43, 55, 86]}\n",
      "dic_2.update(dic_update->{8: [5, 7, 8, 6, 2], 9: [1, 2, 43, 55, 86]}\n",
      "dic_2.get(9)->[1, 2, 43, 55, 86]\n",
      "dic_2.popitem()->{8: [5, 7, 8, 6, 2]}\n",
      "dic_3={}.fromkeys([0,1,2,3,4,'B'])->{0: None, 1: None, 2: None, 3: None, 4: None, 'B': None}\n"
     ]
    }
   ],
   "source": [
    "lst_A=list(range(5,20,4))\n",
    "lst_B=list(range(100,200,20))\n",
    "print(\"lst_A={},lst_B={}\".format(lst_A,lst_B))\n",
    "dic_2={0:lst_A,1:lst_B}\n",
    "print(\"dic_2={}\".format(dic_2))\n",
    "print(\"_\"*50)\n",
    "dic_assignment=dic_2\n",
    "print(\"dic_assignment={}\".format(dic_assignment))\n",
    "dic_2.clear()\n",
    "print(\"dic_2.clear()->{}\".format(dic_2))\n",
    "print(\"dic_assignment={}\".format(dic_assignment))\n",
    "dic_2[5]=list(range(2,9,1))\n",
    "print(\"dic_2[5]=list(range(2,9,1))->{}\".format(dic_2))\n",
    "dic_copy=dic_2.copy()\n",
    "print(\"dic_copy=dic_2.copy()->{}\".format(dic_copy))\n",
    "dic_2[8]=[4,7]\n",
    "print(\"dic_2[8]=[4,7]->{}\".format(dic_2))\n",
    "print(\"dic_copy={}\".format(dic_copy))\n",
    "dic_copy[5].remove(5)\n",
    "print(\"dic_copy[5].remove(5)->{}\".format(dic_copy))\n",
    "dic_copy.setdefault(6,[88,97]) #返回指定键的值，如果不存在,则字典增加新的值\n",
    "print(\"dic_copy.setdefault(6,[88,97])->{}\".format(dic_copy))\n",
    "dic_2.pop(5) #移除指定键/值，并返回该值\n",
    "print(\"dic_2.pop(5)->{}\".format(dic_2))\n",
    "dic_update={8:[5,7,8,6,2],9:[1,2,43,55,86]}\n",
    "print(\"dic_update={}\".format(dic_update))\n",
    "dic_2.update(dic_update) #更新字典\n",
    "print(\"dic_2.update(dic_update->{}\".format(dic_2))\n",
    "print(\"dic_2.get(9)->{}\".format(dic_2.get(9)))\n",
    "dic_2.popitem() #随即弹出一对键/值，并在该字典中移除\n",
    "print(\"dic_2.popitem()->{}\".format(dic_2))\n",
    "\n",
    "dic_3={}.fromkeys([0,1,2,3,4,'B']) #给定键，建立值为空的字典\n",
    "print(\"dic_3={}\"+\".fromkeys([0,1,2,3,4,'B'])->{}\".format(dic_3)) #找下escape characters 脱字符"
   ]
  },
  {
   "cell_type": "code",
   "execution_count": 26,
   "id": "e7862a1d",
   "metadata": {},
   "outputs": [
    {
     "name": "stdout",
     "output_type": "stream",
     "text": [
      "lst_s_3=list(\"Hello Python!\")->['B', 'y', 'e', 'b', 'y', 'e', ' ', 'P', 'y', 't', 'h', 'o', 'n', '!']\n",
      "\"Hellow\"+\" Python!\"->Byebye Python!\n",
      "\"+\".join(str(132826))->1+3+2+8+2+6\n",
      "len(\"Byebye Python!\")->14\n",
      "coordinates.split(\",\")->['100.132008', '30.300058', '7.7']\n",
      "eval(coordinates)->(100.132008, 30.300058, 7.7)\n",
      "\"Byebye Python!\".lower()->byebye python!\n",
      "\"Byebye Python!\".upper()->BYEBYE PYTHON!\n",
      "\"Byebye Python!\"[6:]-> Python!\n",
      "\"    Byebye Python!    \".strip()->Byebye Python!\n",
      "\"Byebye Python!\".replace(\"Python\",\"Grasshopper\")->Byebye Grasshopper!\n",
      "Byebye_lst.sort()>[' ', '!', 'B', 'P', 'b', 'e', 'e', 'h', 'n', 'o', 't', 'y', 'y', 'y']\n",
      "\"Byebye Python!\".find(\"Py\")->7\n"
     ]
    }
   ],
   "source": [
    "lst_s_3=list(\"Byebye Python!\")\n",
    "print(\"lst_s_3=list(\\\"Hello Python!\\\")->{}\".format(lst_s_3)) #\"\\\" \n",
    "print(\"\\\"Hellow\\\"+\\\" Python!\\\"->{}\".format(\"Byebye\"+\" Python!\"))\n",
    "print(\"\\\"+\\\".join(str(132826))->{}\".format(\"+\".join(str(132826))))\n",
    "print(\"len(\\\"Byebye Python!\\\")->{}\".format(len(\"Byebye Python!\")))\n",
    "coordinates=\"100.132008,30.300058,7.7\"\n",
    "print(\"coordinates.split(\\\",\\\")->{}\".format(coordinates.split(\",\")))\n",
    "print(\"eval(coordinates)->{}\".format(eval(coordinates))) #通常用eval()方法将字符串，转换为对应数值形式；\n",
    "print(\"\\\"Byebye Python!\\\".lower()->{}\".format(\"Byebye Python!\".lower()))\n",
    "print(\"\\\"Byebye Python!\\\".upper()->{}\".format(\"Byebye Python!\".upper()))\n",
    "print(\"\\\"Byebye Python!\\\"[6:]->{}\".format(\"Byebye Python!\"[6:]))\n",
    "print(\"\\\"    Byebye Python!    \\\".strip()->{}\".format(\"    Byebye Python!    \".strip()))\n",
    "print(\"\\\"Byebye Python!\\\".replace(\\\"Python\\\",\\\"Grasshopper\\\")->{}\".format(\"Byebye Python!\".replace(\"Python\",\"Grasshopper\")))\n",
    "hello_lst=list(\"Byebye Python!\")\n",
    "hello_lst.sort()\n",
    "print(\"Byebye_lst.sort()>{}\".format(hello_lst))\n",
    "print(\"\\\"Byebye Python!\\\".find(\\\"Py\\\")->{}\".format(\"Byebye Python!\".find(\"Py\")))\n"
   ]
  },
  {
   "cell_type": "code",
   "execution_count": 29,
   "id": "0458c284",
   "metadata": {},
   "outputs": [
    {
     "name": "stdout",
     "output_type": "stream",
     "text": [
      "new_str=format_str % values->Byebye,Python and Grasshopper!\n",
      "new_str_2=format_str_2 % (pi,3.1415926)->Pi with three decimals:3.142,and enter a value with percent sign:3.14 %\n"
     ]
    }
   ],
   "source": [
    "format_str=\"Byebye,%s and %s!\"\n",
    "values=(\"Python\",\"Grasshopper\")\n",
    "new_str=format_str % values\n",
    "print(\"new_str=format_str % values->{}\".format(new_str))\n",
    "\n",
    "format_str_2=\"Pi with three decimals:%.3f,and enter a value with percent sign:%.2f %%\" #如果字符串里包含实际的%，通过%%进行转义\n",
    "\n",
    "from math import pi\n",
    "new_str_2=format_str_2 % (pi,3.1415926)\n",
    "print(\"new_str_2=format_str_2 % (pi,3.1415926)->{}\".format(new_str_2))\n"
   ]
  },
  {
   "cell_type": "code",
   "execution_count": 30,
   "id": "82d30fdc",
   "metadata": {},
   "outputs": [
    {
     "name": "stdout",
     "output_type": "stream",
     "text": [
      "3.141593,3.1416,3.1416,Byebye,Byeby,52,34,3.141593\n"
     ]
    }
   ],
   "source": [
    "format_str_3=\"%5f,%5.4f,%.4f,%.6s,%.*s,%d,%x,%f\"\n",
    "new_str_3=format_str_3%(pi,pi,pi,\"Byebye Python!\",5,\"Byebye Python!\",52,52,pi)\n",
    "print(\"{}\".format(new_str_3))"
   ]
  },
  {
   "cell_type": "code",
   "execution_count": 31,
   "id": "d9cdf925",
   "metadata": {},
   "outputs": [
    {
     "name": "stdout",
     "output_type": "stream",
     "text": [
      "s_1=s_template_1.substitute(x=\"Python\")->Python,glorious,Python!\n",
      "s_2=s_template_2.substitute(x=\"py\")->python is difficult!\n",
      "substitute_dict={'x': 'Python', 'y': 'Grasshopper'}\n",
      "s_3=s_template_3.substitute(substitute_dict)->Python and Grasshopper are both difficult!\n"
     ]
    }
   ],
   "source": [
    "from string import Template\n",
    "s_template_1=Template(\"$x,glorious,$x!\")\n",
    "s_1=s_template_1.substitute(x=\"Python\")\n",
    "print(\"s_1=s_template_1.substitute(x=\\\"Python\\\")->{}\".format(s_1))\n",
    "s_template_2=Template(\"${x}thon is difficult!\")\n",
    "s_2=s_template_2.substitute(x=\"py\")\n",
    "print(\"s_2=s_template_2.substitute(x=\\\"py\\\")->{}\".format(s_2))\n",
    "s_template_3=Template(\"$x and $y are both difficult!\")\n",
    "substitute_dict=dict([('x','Python'),('y','Grasshopper')])\n",
    "print(\"substitute_dict={}\".format(substitute_dict))\n",
    "s_3=s_template_3.substitute(substitute_dict)\n",
    "print(\"s_3=s_template_3.substitute(substitute_dict)->{}\".format(s_3))"
   ]
  },
  {
   "cell_type": "code",
   "execution_count": 33,
   "id": "8341f1ff",
   "metadata": {},
   "outputs": [
    {
     "name": "stdout",
     "output_type": "stream",
     "text": [
      "re.findall(pattern_1,text)->['Python']\n",
      "re.findall(pattern_2,text)->[]\n"
     ]
    }
   ],
   "source": [
    "import re\n",
    "pattern_1='Python'\n",
    "text=\"Byebye Python!\"#表达式匹配字符串\n",
    "print(\"re.findall(pattern_1,text)->{}\".format(re.findall(pattern_1,text)))\n",
    "pattern_2='python'\n",
    "print(\"re.findall(pattern_2,text)->{}\".format(re.findall(pattern_2,text)))\n"
   ]
  },
  {
   "cell_type": "code",
   "execution_count": 34,
   "id": "0e48f2bb",
   "metadata": {},
   "outputs": [
    {
     "name": "stdout",
     "output_type": "stream",
     "text": [
      "re.findall('.ython','Byebye Python!')->['Python']\n",
      "re.findall('.ython','Byebye gython!')->['gython']\n",
      "re.findall('.ython','Byebye gPython!')->['Python']\n",
      "re.findall('.ython','Byebye Pthon!')->[]\n"
     ]
    }
   ],
   "source": [
    "print(\"re.findall('.ython','Byebye Python!')->{}\".format(re.findall('.ython','Byebye Python!')))\n",
    "print(\"re.findall('.ython','Byebye gython!')->{}\".format(re.findall('.ython','Byebye gython!')))\n",
    "print(\"re.findall('.ython','Byebye gPython!')->{}\".format(re.findall('.ython','Byebye gPython!')))\n",
    "print(\"re.findall('.ython','Byebye Pthon!')->{}\".format(re.findall('.ython','Byebye Pthon!')))"
   ]
  },
  {
   "cell_type": "code",
   "execution_count": 35,
   "id": "56522898",
   "metadata": {},
   "outputs": [
    {
     "name": "stdout",
     "output_type": "stream",
     "text": [
      "re.findall(r'w?program1\\.cn,w+\\.program1\\.cn','program1.cn,www.program1.cn')->['program1.cn,www.program1.cn']\n",
      "re.findall(r'w{2}\\.program1\\.cn','www.program1.cn')->['ww.program1.cn']\n",
      "re.findall(r'w{1,3}\\.program1\\.cn','www.program1.cn')->['www.program1.cn']\n"
     ]
    }
   ],
   "source": [
    "print(\"re.findall(r'w?program1\\.cn,w+\\.program1\\.cn','program1.cn,www.program1.cn')->{}\".format(re.findall(r'w?program1\\.cn,w+\\.program1\\.cn','program1.cn,www.program1.cn')))\n",
    "print(\"re.findall(r'w{2}\"+\"\\.program1\\.cn','www.program1.cn')->{}\".format(re.findall(r'w{2}\\.program1\\.cn','www.program1.cn')))\n",
    "print(\"re.findall(r'w{1,3}\"+\"\\.program1\\.cn','www.program1.cn')->{}\".format(re.findall(r'w{1,3}\\.program1\\.cn','www.program1.cn')))"
   ]
  },
  {
   "cell_type": "code",
   "execution_count": 36,
   "id": "6b19acea",
   "metadata": {},
   "outputs": [
    {
     "name": "stdout",
     "output_type": "stream",
     "text": [
      "re.findall('[Py]*thon!','Byebye Python!')->['Python!']\n",
      "re.findall('[Py]*thon!','Byebye Pthon!')->['Pthon!']\n",
      "re.findall('[Py]*thon!','Byebye ython!')->['ython!']\n",
      "re.findall('[Py]*thon!','Byebye ython!')->['thon!']\n"
     ]
    }
   ],
   "source": [
    "(\"re.findall('[Py]*thon!','Byebye Python!')->{}\".format(re.findall('[Py]*thon!','Byebye Python!')))#[] (^)\n",
    "print(\"re.findall('[Py]*thon!','Byebye Pthon!')->{}\".format(re.findall('[Py]*thon!','Byebye Pthon!')))\n",
    "print(\"re.findall('[Py]*thon!','Byebye ython!')->{}\".format(re.findall('[Py]*thon!','Byebye ython!')))\n",
    "print(\"re.findall('[Py]*thon!','Byebye ython!')->{}\".format(re.findall('[Py]*thon!','Byebye thon!')))"
   ]
  },
  {
   "cell_type": "code",
   "execution_count": 37,
   "id": "62dc1cb3",
   "metadata": {},
   "outputs": [
    {
     "name": "stdout",
     "output_type": "stream",
     "text": [
      "re.findall('python|grasshopper','python')->['python']\n",
      "re.findall('python|grasshopper','grasshopper')->['grasshopper']\n",
      "re.findall('python|grasshopper','grasshopper and python')->['grasshopper', 'python']\n"
     ]
    }
   ],
   "source": [
    "print(\"re.findall('python|grasshopper','python')->{}\".format(re.findall('python|grasshopper','python')))#管道符号\n",
    "print(\"re.findall('python|grasshopper','grasshopper')->{}\".format(re.findall('python|grasshopper','grasshopper')))\n",
    "print(\"re.findall('python|grasshopper','grasshopper and python')->{}\".format(re.findall('python|grasshopper','grasshopper and python')))"
   ]
  },
  {
   "cell_type": "code",
   "execution_count": 41,
   "id": "3f2ba6fc",
   "metadata": {},
   "outputs": [
    {
     "name": "stdout",
     "output_type": "stream",
     "text": [
      "re.findall('\\d','number=11')->['1', '1']\n",
      "re.findall('\\D','number=11')->['n', 'u', 'm', 'b', 'e', 'r', '=']\n",
      "re.findall('[^0-10]','number=11')->['n', 'u', 'm', 'b', 'e', 'r', '=']\n"
     ]
    }
   ],
   "source": [
    "print(\"re.findall('\\d','number=11')->{}\".format(re.findall('\\d','number=11')))\n",
    "print(\"re.findall('\\D','number=11')->{}\".format(re.findall('\\D','number=11')))\n",
    "print(\"re.findall('[^0-10]','number=11')->{}\".format(re.findall('[^0-10]','number=11')))"
   ]
  },
  {
   "cell_type": "code",
   "execution_count": 42,
   "id": "7bd3bd48",
   "metadata": {},
   "outputs": [
    {
     "name": "stdout",
     "output_type": "stream",
     "text": [
      "re.findall('[a-k]','python')->['h']\n",
      "re.search('[a-k]+','python')-><re.Match object; span=(0, 6), match='python'>\n",
      "re.split(',','Byebye,,,,,,Python!')->['Byebye', '', '', '', '', '', 'Python!']\n",
      "re.sub('Python','Grasshopper','Byebye Python!')->Byebye Grasshopper!\n",
      "pattern_compile.findall('Byebye,,,,,,Python!')->['Python']\n",
      "re.match('p','python')->found it!\n"
     ]
    }
   ],
   "source": [
    "print(\"re.findall('[a-k]','python')->{}\".format(re.findall('[a-k]','python-3.0')))\n",
    "print(\"re.search('[a-k]+','python')->{}\".format(re.search('[a-zk]+','python')))\n",
    "if re.search('[a-]k+','python'):\n",
    "    print(\"re.search('[a-k]+','python')->found it!\")\n",
    "print(\"re.split(',','Byebye,,,,,,Python!')->{}\".format(re.split(',','Byebye,,,,,,Python!')))\n",
    "print(\"re.sub('Python','Grasshopper','Byebye Python!')->{}\".format(re.sub('Python','Grasshopper','Byebye Python!')))\n",
    "\n",
    "pattern_compile=re.compile('Python')\n",
    "print(\"pattern_compile.findall('Byebye,,,,,,Python!')->{}\".format(pattern_compile.findall('Byebye,,,,,,Python!')))\n",
    "\n",
    "if re.match('p','python'):\n",
    "    print(\"re.match('p','python')->found it!\")"
   ]
  },
  {
   "cell_type": "code",
   "execution_count": 43,
   "id": "ea236389",
   "metadata": {},
   "outputs": [
    {
     "name": "stdout",
     "output_type": "stream",
     "text": [
      "'python'.find('python')->0\n",
      "'python'.find('thon')->2\n",
      "'python'.find('a')->-1\n",
      "'p' in 'python'->True\n"
     ]
    }
   ],
   "source": [
    "print(\"\\'python\\'.find(\\'python\\')->{}\".format('python'.find('python')))\n",
    "print(\"\\'python\\'.find(\\'thon\\')->{}\".format('python'.find('thon')))\n",
    "print(\"\\'python\\'.find(\\'a\\')->{}\".format('python'.find('a')))\n",
    "print(\"\\'p\\' in \\'python\\'->{}\".format('p' in 'python'))"
   ]
  },
  {
   "cell_type": "code",
   "execution_count": 45,
   "id": "d42680ab",
   "metadata": {},
   "outputs": [
    {
     "name": "stdout",
     "output_type": "stream",
     "text": [
      "'Byebye,,,,,,Python!'.split(',')->['Byebye', '', '', '', '', '', 'Python!']\n",
      "'Byebye Python!'.replace('Python','Grasshopper')->Byebye Grasshopper!\n"
     ]
    }
   ],
   "source": [
    "print(\"\\'Byebye,,,,,,Python!\\'.split(',')->{}\".format( 'Byebye,,,,,,Python!'.split(',')))\n",
    "print(\"\\'Byebye Python!\\'.replace(\\'Python\\',\\'Grasshopper\\')->{}\".format( 'Byebye Python!'.replace('Python','Grasshopper')))"
   ]
  },
  {
   "cell_type": "code",
   "execution_count": 46,
   "id": "21b65bbc",
   "metadata": {},
   "outputs": [
    {
     "name": "stdout",
     "output_type": "stream",
     "text": [
      "match_1.gourp(1)->program1\n",
      "match_1.start(1)->4\n",
      "match_1.end(1)->12\n",
      "match_1.span(1)->(4, 12)\n",
      "match_2.group(1)->program1\n",
      "match_2.group(2)->org\n"
     ]
    }
   ],
   "source": [
    "match_1=re.match(r'www\\.(.*)\\..{3}','www.program1.org')\n",
    "print(\"match_1.gourp(1)->{}\".format(match_1.group(1)))\n",
    "print(\"match_1.start(1)->{}\".format(match_1.start(1)))\n",
    "print(\"match_1.end(1)->{}\".format(match_1.end(1)))\n",
    "print(\"match_1.span(1)->{}\".format(match_1.span(1)))\n",
    "match_2=re.match(r'www\\.(.*)\\.(.{3})','www.program1.org')\n",
    "print(\"match_2.group(1)->{}\".format(match_2.group(1)))\n",
    "print(\"match_2.group(2)->{}\".format(match_2.group(2)))"
   ]
  },
  {
   "cell_type": "code",
   "execution_count": 1,
   "id": "463bc8a5",
   "metadata": {},
   "outputs": [
    {
     "name": "stdout",
     "output_type": "stream",
     "text": [
      "lst_1=[25, 28, 31, 34]\n",
      "__________________________________________________\n",
      "for i in lst_1:\n",
      "25\n",
      "28\n",
      "31\n",
      "34\n",
      "for i in range(len(lst_1)):\n",
      "idx=0,val=25\n",
      "idx=1,val=28\n",
      "idx=2,val=31\n",
      "idx=3,val=34\n",
      "++++++++++++++++++++++++++++++++++++++++++++++++++\n",
      "dic_4={'a': 1, 'b': 4, 'c': 6, 'd': 0}\n",
      "__________________________________________________\n",
      "for k in dic_4:\n",
      "a\n",
      "b\n",
      "c\n",
      "d\n",
      "for k,v in dic_4.items():\n",
      "key=a,val=1\n",
      "key=b,val=4\n",
      "key=c,val=6\n",
      "key=d,val=0\n"
     ]
    }
   ],
   "source": [
    "lst_1=list(range(25,36,3))\n",
    "print(\"lst_1={}\".format(lst_1))\n",
    "print(\"_\"*50)\n",
    "print(\"for i in lst_1:\")\n",
    "for i in lst_1:\n",
    "    print(i)\n",
    "print(\"for i in range(len(lst_1)):\")\n",
    "for i in range(len(lst_1)):\n",
    "    print(\"idx={},val={}\".format(i,lst_1[i]))\n",
    "print(\"+\"*50)   \n",
    "dic_4=dict(a=1,b=4,c=6,d=0)\n",
    "print(\"dic_4={}\".format(dic_4))\n",
    "print(\"_\"*50)\n",
    "print(\"for k in dic_4:\")\n",
    "for k in dic_4:\n",
    "    print(k)\n",
    "print(\"for k,v in dic_4.items():\")\n",
    "for k,v in dic_4.items():\n",
    "    print(\"key={},val={}\".format(k,v))"
   ]
  },
  {
   "cell_type": "code",
   "execution_count": 3,
   "id": "efdcf9ef",
   "metadata": {},
   "outputs": [
    {
     "name": "stdout",
     "output_type": "stream",
     "text": [
      "x=2\n",
      "x=22\n",
      "x=42\n"
     ]
    }
   ],
   "source": [
    "x=2\n",
    "while x<=60:\n",
    "    print(\"x={}\".format(x))\n",
    "    x+=20 #增量赋值，x*=2     "
   ]
  },
  {
   "cell_type": "code",
   "execution_count": 4,
   "id": "76234191",
   "metadata": {},
   "outputs": [
    {
     "name": "stdout",
     "output_type": "stream",
     "text": [
      "x=2\n",
      "x=31\n",
      "sys.maxsize=9223372036854775807\n",
      "i=0\n",
      "i=1\n",
      "i=2\n",
      "i=3\n",
      "i=4\n",
      "i=5\n",
      "i=6\n",
      "i=7\n",
      "i=8\n",
      "i=9\n",
      "i=10\n",
      "i=11\n",
      "i=12\n",
      "i=13\n",
      "i=14\n",
      "i=15\n",
      "i=16\n",
      "i=17\n",
      "i=18\n",
      "i=19\n",
      "i=20\n"
     ]
    }
   ],
   "source": [
    "x=2\n",
    "while x<=60:\n",
    "    print(\"x={}\".format(x))\n",
    "    x+=29\n",
    "    if x>=40:break    \n",
    "    \n",
    "import sys\n",
    "print(\"sys.maxsize={}\".format(sys.maxsize))\n",
    "for i in range(sys.maxsize):\n",
    "    print(\"i={}\".format(i))  #?\n",
    "    i+=20\n",
    "    if i>=40:break"
   ]
  },
  {
   "cell_type": "code",
   "execution_count": 10,
   "id": "a8f22ff7",
   "metadata": {},
   "outputs": [
    {
     "name": "stdout",
     "output_type": "stream",
     "text": [
      "zip_lst=zip(lst_a,lst_b)-><zip object at 0x000001D5223EC340>\n",
      "dict(zip_lst)->{4: 'point_a', 5: 'point_b', 6: 'point_c', 7: 'point_d'}\n",
      "4 point_a\n",
      "5 point_b\n",
      "6 point_c\n",
      "7 point_d\n",
      "a=(4, 5, 6, 7),b=('point_a', 'point_b', 'point_c', 'point_d')\n"
     ]
    }
   ],
   "source": [
    "lst_a=[4,5,6,7]\n",
    "lst_b=['point_a','point_b','point_c','point_d']\n",
    "zip_lst=zip(lst_a,lst_b) #The zip() function takes iterables (can be zero or more), aggregates them in a tuple, and returns it.\n",
    "print(\"zip_lst=zip(lst_a,lst_b)->{}\".format(zip_lst))\n",
    "print(\"dict(zip_lst)->{}\".format(dict(zip_lst)))\n",
    "\n",
    "zip_lst=zip(lst_a,lst_b) #迭代对象临时存储，读取完后为空\n",
    "for a,b in zip_lst:\n",
    "    print(a,b)\n",
    "    \n",
    "zip_lst=zip(lst_a,lst_b)\n",
    "a,b=zip(*zip_lst)\n",
    "print(\"a={},b={}\".format(a,b))"
   ]
  },
  {
   "cell_type": "code",
   "execution_count": 11,
   "id": "9ade89e8",
   "metadata": {},
   "outputs": [
    {
     "name": "stdout",
     "output_type": "stream",
     "text": [
      "dic_4={0: 'point_a', 1: 'point_b', 2: 'point_c', 3: 'point_d'}\n",
      "dict((i,v) for i,v in enumerate(lst_c))->{0: 'point_a', 1: 'point_b', 2: 'point_c', 3: 'point_d'}\n",
      "__________________________________________________\n",
      "0:4,point_a\n",
      "1:5,point_b\n",
      "2:6,point_c\n",
      "3:7,point_d\n"
     ]
    }
   ],
   "source": [
    "lst_c=['point_a','point_b','point_c','point_d']\n",
    "dic_4={}\n",
    "for idx,value in enumerate(lst_c):\n",
    "    dic_4[idx]=value\n",
    "print(\"dic_4={}\".format(dic_4))\n",
    "print(\"dict((i,v) for i,v in enumerate(lst_c))->{}\".format(dict((i,n) for i,n in enumerate(lst_c)))) #list comprehension\n",
    "print(\"_\"*50)\n",
    "for i,(a,b) in enumerate(zip(lst_a,lst_b)):\n",
    "    print('%d:%s,%s'%(i,a,b))\n"
   ]
  },
  {
   "cell_type": "code",
   "execution_count": 3,
   "id": "1fc098cf",
   "metadata": {},
   "outputs": [
    {
     "name": "stdout",
     "output_type": "stream",
     "text": [
      "[x*x for x in range(5,42,5) if x%2==0]->[100, 400, 900, 1600]\n",
      "[(x,y) for x in range(3)for y in range(2)]->[(0, 0), (0, 1), (1, 0), (1, 1), (2, 0), (2, 1)]\n",
      "[(x,y) for x,y in zip(range(3),range(2))]->[(0, 0), (1, 1)]\n",
      "[[a for a in range(2,15,3)],2,3,[b for b in range(60,120,8)],[[c for c in range(1000,2000,120)],3,9]]->[[2, 5, 8, 11, 14], 2, 3, [60, 68, 76, 84, 92, 100, 108, 116], [[1000, 1120, 1240, 1360, 1480, 1600, 1720, 1840, 1960], 3, 9]]\n",
      "flatten_lst(nested_list)->[2, 5, 8, 11, 14, 2, 3, 60, 68, 76, 84, 92, 100, 108, 116, 1000, 1120, 1240, 1360, 1480, 1600, 1720, 1840, 1960, 3, 9]\n"
     ]
    }
   ],
   "source": [
    "print(\"[x*x for x in range(5,42,5) if x%2==0]->{}\".format([x*x for x in range(5,42,5) if x%2==0]))\n",
    "print(\"[(x,y) for x in range(3)for y in range(2)]->{}\".format([(x,y) for x in range(3)for y in range(2)]))\n",
    "print(\"[(x,y) for x,y in zip(range(3),range(2))]->{}\".format([(x,y) for x,y in zip(range(3),range(2))]))\n",
    "nested_list=[[a for a in range(2,15,3)],2,3,[b for b in range(60,120,8)],[[c for c in range(1000,2000,120)],3,9]]\n",
    "print(\"[[a for a in range(2,15,3)],2,3,[b for b in range(60,120,8)],[[c for c in range(1000,2000,120)],3,9]]->{}\".format(nested_list)) #嵌套列表推导式\n",
    "\n",
    "flatten_lst=lambda lst: [m for n_lst in lst for m in flatten_lst(n_lst)] if type(lst) is list else [lst] #展平列表常用，可以放置到单独的.py文件中调用。lambda函数后文阐述\n",
    "print(\"flatten_lst(nested_list)->{}\".format(flatten_lst(nested_list)))\n"
   ]
  },
  {
   "cell_type": "code",
   "execution_count": 5,
   "id": "67d8cb91",
   "metadata": {},
   "outputs": [
    {
     "name": "stdout",
     "output_type": "stream",
     "text": [
      "oh my god.\n"
     ]
    }
   ],
   "source": [
    "x=10\n",
    "if x<0:\n",
    "    print('It is difficult.')\n",
    "elif x==0:\n",
    "    print('infinite to zero.')\n",
    "elif 0<x<10:\n",
    "    print('wow i like it')\n",
    "else:\n",
    "    print('oh my god.')"
   ]
  },
  {
   "cell_type": "code",
   "execution_count": 7,
   "id": "43d287c9",
   "metadata": {},
   "outputs": [
    {
     "name": "stdout",
     "output_type": "stream",
     "text": [
      "x==y->True\n",
      "x is y->True\n",
      "x==z->True\n",
      "x is z->False\n",
      "x is not y->False\n",
      "x is not z->True\n",
      "id_x:2398005334592;id_y:2398005334592;id_z:2398005290496\n",
      "x=[4, 7],y=[4, 7],z=[4, 7, 8] after del x[2]\n"
     ]
    }
   ],
   "source": [
    "x=y=[4,7,8]\n",
    "z=[4,7,8]\n",
    "print(\"x==y->{}\".format(x==y))\n",
    "print(\"x is y->{}\".format(x is y))\n",
    "print(\"x==z->{}\".format(x==z))\n",
    "print(\"x is z->{}\".format(x is z))\n",
    "print(\"x is not y->{}\".format(x is not y))\n",
    "print(\"x is not z->{}\".format(x is not z))\n",
    "print(\"id_x:{};id_y:{};id_z:{}\".format(id(x),id(y),id(z))) #Memory Location\n",
    "\n",
    "del x[2]\n",
    "print(\"x={},y={},z={} after del x[2]\".format(x,y,z))\n"
   ]
  },
  {
   "cell_type": "code",
   "execution_count": 8,
   "id": "6b19adfb",
   "metadata": {},
   "outputs": [
    {
     "name": "stdout",
     "output_type": "stream",
     "text": [
      "3 in x->False\n",
      "0 in x->False\n",
      "3 not in x->True\n",
      "0 not in x->True\n"
     ]
    }
   ],
   "source": [
    "x=[2,5,9]\n",
    "print(\"3 in x->{}\".format(3 in x))\n",
    "print(\"0 in x->{}\".format(0 in x))\n",
    "print(\"3 not in x->{}\".format(3 not in x))\n",
    "print(\"0 not in x->{}\".format(0 not in x))\n"
   ]
  },
  {
   "cell_type": "code",
   "execution_count": 9,
   "id": "8c84e97a",
   "metadata": {},
   "outputs": [
    {
     "name": "stdout",
     "output_type": "stream",
     "text": [
      "a<c<b kidding!!!\n"
     ]
    }
   ],
   "source": [
    "a,b,c=1,12,20\n",
    "if c>a and c<b:\n",
    "    print('a<c<b')\n",
    "else: print('a<c<b kidding!!!')\n"
   ]
  },
  {
   "cell_type": "code",
   "execution_count": 13,
   "id": "8a44931c",
   "metadata": {},
   "outputs": [
    {
     "name": "stdout",
     "output_type": "stream",
     "text": [
      "simple_func(5,7)->3132\n",
      "simple_func(7,5)->16812\n",
      "simple_func(y=7,x=5)->3132\n"
     ]
    }
   ],
   "source": [
    "print(\"simple_func(5,7)->{}\".format(simple_func(5,7)))\n",
    "print(\"simple_func(7,5)->{}\".format(simple_func(7,5)))\n",
    "print(\"simple_func(y=7,x=5)->{}\".format(simple_func(y=7,x=5)))"
   ]
  },
  {
   "cell_type": "code",
   "execution_count": 16,
   "id": "ff6e7992",
   "metadata": {},
   "outputs": [
    {
     "name": "stdout",
     "output_type": "stream",
     "text": [
      "fibonacci(5,9)->[5, 8, 13, 21, 34, 55, 89, 144, 233]\n",
      "fibonacci(7,9)->[8, 13, 21, 34, 55, 89, 144, 233, 377]\n"
     ]
    }
   ],
   "source": [
    "def fibonacci(s,count): #定义fib函数 较笨\n",
    "    fib_lst=[1,2]\n",
    "    fib_part=[]\n",
    "    if s==1 or s==2:\n",
    "        fib_part[:]=fib_lst\n",
    "        for i in range(count-2):\n",
    "            fib_part.append(fib_part[-1]+fib_part[-2])\n",
    "    else:\n",
    "        while True:\n",
    "            fib_lst[:]=[fib_lst[1],fib_lst[0]+fib_lst[1]]\n",
    "            #print(fib_lst)\n",
    "            if fib_lst[1]-s>=0:break\n",
    "        fib_part[:]=fib_lst\n",
    "        if abs(fib_lst[0]-s)>=abs(fib_lst[1]-s):\n",
    "            for i in range(count-1):\n",
    "                fib_part.append(fib_part[-1]+fib_part[-2])\n",
    "            fib_part.pop(0)\n",
    "        else:\n",
    "            for i in range(count-2):\n",
    "                fib_part.append(fib_part[-1]+fib_part[-2])\n",
    "    return fib_part\n",
    "\n",
    "print(\"fibonacci(5,9)->{}\".format(fibonacci(5,9)))\n",
    "print(\"fibonacci(7,9)->{}\".format(fibonacci(7,9)))\n"
   ]
  },
  {
   "cell_type": "code",
   "execution_count": 17,
   "id": "603f1460",
   "metadata": {},
   "outputs": [
    {
     "name": "stdout",
     "output_type": "stream",
     "text": [
      "945\n"
     ]
    }
   ],
   "source": [
    "def factorial(n):\n",
    "    if n==1:\n",
    "        return 1\n",
    "    else:\n",
    "        return n*factorial(n-2)\n",
    "print(factorial(9))\n"
   ]
  },
  {
   "cell_type": "code",
   "execution_count": 20,
   "id": "3dd1709b",
   "metadata": {},
   "outputs": [
    {
     "name": "stdout",
     "output_type": "stream",
     "text": [
      "swift.fly->Whirring\n",
      "swift.eat()->\n",
      "Aaaah...\n",
      "swift.eat()->\n",
      "No.Thanks!\n",
      "swift.sing()->\n",
      "Squawk!\n"
     ]
    }
   ],
   "source": [
    "swift=Apodidae()\n",
    "print(\"swift.fly->{}\".format(swift.fly))\n",
    "print(\"swift.eat()->\")\n",
    "swift.eat()\n",
    "print(\"swift.eat()->\")\n",
    "swift.eat()\n",
    "print(\"swift.sing()->\")\n",
    "swift.sing()\n"
   ]
  },
  {
   "cell_type": "code",
   "execution_count": 21,
   "id": "67a81211",
   "metadata": {},
   "outputs": [
    {
     "name": "stdout",
     "output_type": "stream",
     "text": [
      "grasshopper.python()->\n",
      "Squawk!\n",
      "rihno.python()->\n",
      "Squawk!\n"
     ]
    }
   ],
   "source": [
    "grasshopper=Apodidae()\n",
    "rihno=Apodidae()\n",
    "print(\"grasshopper.python()->\")\n",
    "grasshopper.sing()\n",
    "print(\"rihno.python()->\")\n",
    "rihno.sing()"
   ]
  },
  {
   "cell_type": "code",
   "execution_count": 38,
   "id": "a3655fff",
   "metadata": {},
   "outputs": [
    {
     "name": "stdout",
     "output_type": "stream",
     "text": [
      "fa=[1, 1, 2, 3, 5, 8, 13, 21]\n",
      "fb=[34, 55, 89, 144, 233]\n"
     ]
    }
   ],
   "source": [
    "class Fibs():\n",
    "    def __init__(self):\n",
    "        self.a=0\n",
    "        self.b=1\n",
    "    def next(self):  #实现迭代器的next方法\n",
    "        self.a,self.b=self.b,self.a+self.b\n",
    "        return self.a\n",
    "    def __iter__(self): #实现迭代方法\n",
    "        return self\n",
    "f=Fibs()\n",
    "fa=[]\n",
    "fb=[]\n",
    "for i in range(8):\n",
    "    fa.append(f.next())\n",
    "print(\"fa={}\".format(fa))\n",
    "for i in range(5):\n",
    "    fb.append(f.next())\n",
    "print(\"fb={}\".format(fb))"
   ]
  },
  {
   "cell_type": "code",
   "execution_count": 44,
   "id": "b2283210",
   "metadata": {},
   "outputs": [
    {
     "name": "stdout",
     "output_type": "stream",
     "text": [
      "lst_e=[[4, 7, 10, 13, 16, 19, 22, 25], [3, 7, 67, [0, 1, 2, 3, 4], 60]]\n",
      "__________________________________________________\n",
      "flatten_lst=[4, 7, 10, 13, 16, 19, 22, 25, 3, 7, 67, 0, 1, 2, 3, 4, 60]\n"
     ]
    }
   ],
   "source": [
    "lst_e=[list(range(4,27,3)),[3,7,67,list(range(5)),60]]\n",
    "print(\"lst_e={}\".format(lst_e))\n",
    "print(\"_\"*50)\n",
    "flatten_lst=[]\n",
    "for v_1 in lst_e:\n",
    "    try:\n",
    "        for v_2 in v_1:\n",
    "            try:\n",
    "                for v_3 in v_2:\n",
    "                    flatten_lst.append(v_3)\n",
    "            except TypeError:\n",
    "                flatten_lst.append(v_2)\n",
    "    except TypeError:\n",
    "        flatten_lst.append(v_1)\n",
    "print(\"flatten_lst={}\".format(flatten_lst))\n"
   ]
  },
  {
   "cell_type": "code",
   "execution_count": 47,
   "id": "0fce5878",
   "metadata": {},
   "outputs": [
    {
     "name": "stdout",
     "output_type": "stream",
     "text": [
      "list(flatten(lst_e))->[4, 7, 10, 13, 16, 19, 22, 25, 3, 7, 67, 0, 1, 2, 3, 4, 60]\n"
     ]
    }
   ],
   "source": [
    "print(\"list(flatten(lst_e))->{}\".format(list(flatten(lst_e))))"
   ]
  },
  {
   "cell_type": "code",
   "execution_count": 49,
   "id": "60380a27",
   "metadata": {},
   "outputs": [
    {
     "name": "stdout",
     "output_type": "stream",
     "text": [
      "next(n)->num#0\n",
      "next(n)->num#1\n",
      "next(n)->num#2\n",
      "[next(n) for i in range(7)]->['num#3', 'num#4', 'num#5', 'num#6', 'num#7', 'num#8', 'num#9']\n"
     ]
    }
   ],
   "source": [
    "n=infinite()\n",
    "print(\"next(n)->{}\".format(next(n)))\n",
    "print(\"next(n)->{}\".format(next(n)))\n",
    "print(\"next(n)->{}\".format(next(n)))\n",
    "print(\"[next(n) for i in range(7)]->{}\".format([next(n) for i in range(7)]))"
   ]
  },
  {
   "cell_type": "code",
   "execution_count": 2,
   "id": "e62deabd",
   "metadata": {},
   "outputs": [
    {
     "name": "stdout",
     "output_type": "stream",
     "text": [
      "[[(2*pi*(2*(m/(n-2))-1),2*pi*(2*(o/(n-2))-1)) for m in range(n)] for o in range(n)]->[[(-6.2831852, -6.2831852), (-2.094395066666667, -6.2831852), (2.0943950666666664, -6.2831852), (6.2831852, -6.2831852), (10.471975333333333, -6.2831852)], [(-6.2831852, -2.094395066666667), (-2.094395066666667, -2.094395066666667), (2.0943950666666664, -2.094395066666667), (6.2831852, -2.094395066666667), (10.471975333333333, -2.094395066666667)], [(-6.2831852, 2.0943950666666664), (-2.094395066666667, 2.0943950666666664), (2.0943950666666664, 2.0943950666666664), (6.2831852, 2.0943950666666664), (10.471975333333333, 2.0943950666666664)], [(-6.2831852, 6.2831852), (-2.094395066666667, 6.2831852), (2.0943950666666664, 6.2831852), (6.2831852, 6.2831852), (10.471975333333333, 6.2831852)], [(-6.2831852, 10.471975333333333), (-2.094395066666667, 10.471975333333333), (2.0943950666666664, 10.471975333333333), (6.2831852, 10.471975333333333), (10.471975333333333, 10.471975333333333)]]\n",
      "__________________________________________________\n",
      "([(2*pi*(2*(u/(n-1))-1),2*pi*(2*(v/(n-1))-1)) for u in range(n)] for v in range(n))-><generator object <genexpr> at 0x0000016EF14DBF20>\n",
      "next(gen)->[(-6.2831852, -6.2831852), (-2.094395066666667, -6.2831852), (2.0943950666666664, -6.2831852), (6.2831852, -6.2831852), (10.471975333333333, -6.2831852)]\n",
      "next(gen)->[(-6.2831852, -2.094395066666667), (-2.094395066666667, -2.094395066666667), (2.0943950666666664, -2.094395066666667), (6.2831852, -2.094395066666667), (10.471975333333333, -2.094395066666667)]\n"
     ]
    }
   ],
   "source": [
    "n=5\n",
    "pi=3.1415926\n",
    "print(\"[[(2*pi*(2*(m/(n-2))-1),2*pi*(2*(o/(n-2))-1)) for m in range(n)] for o in range(n)]->{}\".format([[(2*pi*(2*(m/(n-2))-1),2*pi*(2*(o/(n-2))-1)) for m in range(n)] for o in range(n)]))\n",
    "print(\"_\"*50)\n",
    "print(\"([(2*pi*(2*(u/(n-1))-1),2*pi*(2*(v/(n-1))-1)) for u in range(n)] for v in range(n))->{}\".format(([(2*pi*(2*(m/(n-2))-1),2*pi*(2*(o/(n-2))-1)) for m in range(n)] for o in range(n))))\n",
    "gen=([(2*pi*(2*(m/(n-2))-1),2*pi*(2*(o/(n-2))-1)) for m in range(n)] for o in range(n))\n",
    "print(\"next(gen)->{}\".format(next(gen)))\n",
    "print(\"next(gen)->{}\".format(next(gen)))"
   ]
  },
  {
   "cell_type": "code",
   "execution_count": 5,
   "id": "280ab890",
   "metadata": {},
   "outputs": [
    {
     "name": "stdout",
     "output_type": "stream",
     "text": [
      "f_convert_a('3.1415936')->3.1415926\n",
      "f_convert_a('python')->python\n",
      "f_convert_a(3,8,7)->(3, 8, 7)\n"
     ]
    }
   ],
   "source": [
    "def f_convert_a(x):\n",
    "    try:\n",
    "        return float(x)\n",
    "    except:\n",
    "        return x\n",
    "print(\"f_convert_a('3.1415936')->{}\".format(f_convert_a('3.1415926')))    \n",
    "print(\"f_convert_a('python')->{}\".format(f_convert_a('python')))  \n",
    "print(\"f_convert_a(3,8,7)->{}\".format(f_convert_a((3,8,7))))  "
   ]
  },
  {
   "cell_type": "code",
   "execution_count": 6,
   "id": "e2b04aa5",
   "metadata": {},
   "outputs": [
    {
     "name": "stdout",
     "output_type": "stream",
     "text": [
      "f_convert_b('3.1415936')->3.1415926\n",
      "f_convert_b('python')->python\n"
     ]
    },
    {
     "ename": "TypeError",
     "evalue": "float() argument must be a string or a number, not 'tuple'",
     "output_type": "error",
     "traceback": [
      "\u001b[1;31m---------------------------------------------------------------------------\u001b[0m",
      "\u001b[1;31mTypeError\u001b[0m                                 Traceback (most recent call last)",
      "\u001b[1;32m<ipython-input-6-e81cbfa424dd>\u001b[0m in \u001b[0;36m<module>\u001b[1;34m\u001b[0m\n\u001b[0;32m      6\u001b[0m \u001b[0mprint\u001b[0m\u001b[1;33m(\u001b[0m\u001b[1;34m\"f_convert_b('3.1415936')->{}\"\u001b[0m\u001b[1;33m.\u001b[0m\u001b[0mformat\u001b[0m\u001b[1;33m(\u001b[0m\u001b[0mf_convert_b\u001b[0m\u001b[1;33m(\u001b[0m\u001b[1;34m'3.1415926'\u001b[0m\u001b[1;33m)\u001b[0m\u001b[1;33m)\u001b[0m\u001b[1;33m)\u001b[0m\u001b[1;33m\u001b[0m\u001b[1;33m\u001b[0m\u001b[0m\n\u001b[0;32m      7\u001b[0m \u001b[0mprint\u001b[0m\u001b[1;33m(\u001b[0m\u001b[1;34m\"f_convert_b('python')->{}\"\u001b[0m\u001b[1;33m.\u001b[0m\u001b[0mformat\u001b[0m\u001b[1;33m(\u001b[0m\u001b[0mf_convert_b\u001b[0m\u001b[1;33m(\u001b[0m\u001b[1;34m'python'\u001b[0m\u001b[1;33m)\u001b[0m\u001b[1;33m)\u001b[0m\u001b[1;33m)\u001b[0m\u001b[1;33m\u001b[0m\u001b[1;33m\u001b[0m\u001b[0m\n\u001b[1;32m----> 8\u001b[1;33m \u001b[0mprint\u001b[0m\u001b[1;33m(\u001b[0m\u001b[1;34m\"f_convert_b(3,8,7)->{}\"\u001b[0m\u001b[1;33m.\u001b[0m\u001b[0mformat\u001b[0m\u001b[1;33m(\u001b[0m\u001b[0mf_convert_b\u001b[0m\u001b[1;33m(\u001b[0m\u001b[1;33m(\u001b[0m\u001b[1;36m3\u001b[0m\u001b[1;33m,\u001b[0m\u001b[1;36m8\u001b[0m\u001b[1;33m,\u001b[0m\u001b[1;36m7\u001b[0m\u001b[1;33m)\u001b[0m\u001b[1;33m)\u001b[0m\u001b[1;33m)\u001b[0m\u001b[1;33m)\u001b[0m\u001b[1;33m\u001b[0m\u001b[1;33m\u001b[0m\u001b[0m\n\u001b[0m",
      "\u001b[1;32m<ipython-input-6-e81cbfa424dd>\u001b[0m in \u001b[0;36mf_convert_b\u001b[1;34m(x)\u001b[0m\n\u001b[0;32m      1\u001b[0m \u001b[1;32mdef\u001b[0m \u001b[0mf_convert_b\u001b[0m\u001b[1;33m(\u001b[0m\u001b[0mx\u001b[0m\u001b[1;33m)\u001b[0m\u001b[1;33m:\u001b[0m\u001b[1;33m\u001b[0m\u001b[1;33m\u001b[0m\u001b[0m\n\u001b[0;32m      2\u001b[0m     \u001b[1;32mtry\u001b[0m\u001b[1;33m:\u001b[0m\u001b[1;33m\u001b[0m\u001b[1;33m\u001b[0m\u001b[0m\n\u001b[1;32m----> 3\u001b[1;33m         \u001b[1;32mreturn\u001b[0m \u001b[0mfloat\u001b[0m\u001b[1;33m(\u001b[0m\u001b[0mx\u001b[0m\u001b[1;33m)\u001b[0m\u001b[1;33m\u001b[0m\u001b[1;33m\u001b[0m\u001b[0m\n\u001b[0m\u001b[0;32m      4\u001b[0m     \u001b[1;32mexcept\u001b[0m \u001b[0mValueError\u001b[0m\u001b[1;33m:\u001b[0m\u001b[1;33m\u001b[0m\u001b[1;33m\u001b[0m\u001b[0m\n\u001b[0;32m      5\u001b[0m         \u001b[1;32mreturn\u001b[0m \u001b[0mx\u001b[0m\u001b[1;33m\u001b[0m\u001b[1;33m\u001b[0m\u001b[0m\n",
      "\u001b[1;31mTypeError\u001b[0m: float() argument must be a string or a number, not 'tuple'"
     ]
    }
   ],
   "source": [
    "def f_convert_b(x):\n",
    "    try:\n",
    "        return float(x)\n",
    "    except ValueError:\n",
    "        return x\n",
    "print(\"f_convert_b('3.1415936')->{}\".format(f_convert_b('3.1415926')))    \n",
    "print(\"f_convert_b('python')->{}\".format(f_convert_b('python')))  \n",
    "print(\"f_convert_b(3,8,7)->{}\".format(f_convert_b((3,8,7))))  "
   ]
  },
  {
   "cell_type": "code",
   "execution_count": 8,
   "id": "11d2b0e5",
   "metadata": {},
   "outputs": [
    {
     "name": "stdout",
     "output_type": "stream",
     "text": [
      "f_convert_c('3.1415926')->3.1415926\n",
      "f_convert_c('python')->python\n",
      "(3, 8, 7) TypeError\n",
      "f_convert_c(3,8,7)->None\n"
     ]
    }
   ],
   "source": [
    "def f_convert_c(x):\n",
    "    try:\n",
    "        return float(x)\n",
    "    except ValueError:\n",
    "        return x\n",
    "    except TypeError:\n",
    "        print(x,'TypeError')\n",
    "print(\"f_convert_c('3.1415926')->{}\".format(f_convert_c('3.1415926')))    \n",
    "print(\"f_convert_c('python')->{}\".format(f_convert_c('python')))  \n",
    "print(\"f_convert_c(3,8,7)->{}\".format(f_convert_c((3,8,7))))         "
   ]
  },
  {
   "cell_type": "code",
   "execution_count": null,
   "id": "8aef625a",
   "metadata": {},
   "outputs": [],
   "source": [
    "def f_convert_d(x):\n",
    "    try:\n",
    "        return float(x)\n",
    "    except (ValueError,TypeError):\n",
    "        print(x,'ValueError or TypeError')\n",
    "print(\"f_convert_d('3.1415926')->{}\".format(f_convert_d('3.1415926')))    \n",
    "print(\"f_convert_d('python')->{}\".format(f_convert_d('python')))  \n",
    "print(\"f_convert_d(3,8,7)->{}\".format(f_convert_d((3,8,7)))) "
   ]
  },
  {
   "cell_type": "code",
   "execution_count": 9,
   "id": "0a7323da",
   "metadata": {},
   "outputs": [
    {
     "name": "stdout",
     "output_type": "stream",
     "text": [
      "f_convert_f('3.1415926')->3.1415926\n",
      "f_convert_f('python')->None\n",
      "f_convert_f(3,8,7)->None\n"
     ]
    }
   ],
   "source": [
    "def f_convert_f(x):\n",
    "    try:\n",
    "        return float(x)\n",
    "    except (ValueError,TypeError) as e:\n",
    "        pass#跳过\n",
    "print(\"f_convert_f('3.1415926')->{}\".format(f_convert_f('3.1415926')))    \n",
    "print(\"f_convert_f('python')->{}\".format(f_convert_f('python')))  \n",
    "print(\"f_convert_f(3,8,7)->{}\".format(f_convert_f((3,8,7))))     "
   ]
  },
  {
   "cell_type": "code",
   "execution_count": 11,
   "id": "182f8a69",
   "metadata": {},
   "outputs": [
    {
     "name": "stdout",
     "output_type": "stream",
     "text": [
      "it is wrong ./data/tryException.txt :[Errno 2] No such file or directory: './data/tryException.txt'\n",
      "\n",
      "tryException_content->None\n",
      "it is wrong ./data/tryException_.txt :[Errno 2] No such file or directory: './data/tryException_.txt'\n",
      "\n"
     ]
    }
   ],
   "source": [
    "def f_open_a(fp):\n",
    "    try:\n",
    "        f=open(fp,'r')\n",
    "    except IOError as e:\n",
    "        print('it is wrong',fp,':%s\\n' %e)\n",
    "    else:\n",
    "        data=f.read()\n",
    "        f.close\n",
    "        return data\n",
    "tryException_content=f_open_a(\"./data/tryException.txt\")   \n",
    "print(\"tryException_content->{}\".format(tryException_content))\n",
    "f_open_a(\"./data/tryException_.txt\")"
   ]
  },
  {
   "cell_type": "code",
   "execution_count": 13,
   "id": "25c40781",
   "metadata": {},
   "outputs": [
    {
     "name": "stdout",
     "output_type": "stream",
     "text": [
      "it is wrong ./data/tryException.txt :[Errno 2] No such file or directory: './data/tryException.txt'\n",
      "\n",
      "ok!\n"
     ]
    }
   ],
   "source": [
    "def f_open_b(fp):\n",
    "    try:\n",
    "        f=open(fp,'r')\n",
    "    except IOError as e:\n",
    "        print('it is wrong',fp,':%s\\n' %e)\n",
    "    else:\n",
    "        data=f.read()\n",
    "        f.close()\n",
    "        return data\n",
    "    finally:\n",
    "        print('ok!')\n",
    "f_open_b(\"./data/tryException.txt\")        \n"
   ]
  }
 ],
 "metadata": {
  "kernelspec": {
   "display_name": "Python 3",
   "language": "python",
   "name": "python3"
  },
  "language_info": {
   "codemirror_mode": {
    "name": "ipython",
    "version": 3
   },
   "file_extension": ".py",
   "mimetype": "text/x-python",
   "name": "python",
   "nbconvert_exporter": "python",
   "pygments_lexer": "ipython3",
   "version": "3.8.8"
  }
 },
 "nbformat": 4,
 "nbformat_minor": 5
}
